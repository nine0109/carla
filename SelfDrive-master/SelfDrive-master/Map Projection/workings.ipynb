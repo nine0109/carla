{
 "cells": [
  {
   "cell_type": "code",
   "execution_count": 2,
   "metadata": {},
   "outputs": [
    {
     "name": "stdout",
     "output_type": "stream",
     "text": [
      "maps:  64   images:  4   in both:  1\n"
     ]
    }
   ],
   "source": [
    "# a little script to reconcile map and camera images\n",
    "import os\n",
    "import pandas as pd\n",
    "import cv2\n",
    "\n",
    "path1 = 'C:/SelfDrive/Map Projection/map_img/'\n",
    "path2 = 'C:/SelfDrive/Map Projection/img/'\n",
    "\n",
    "images = [f.split('.png')[0] for f in os.listdir(path2) if f.endswith(\".png\")]\n",
    "maps = [f.split('.png')[0] for f in os.listdir(path1) if f.endswith(\".png\")]\n",
    "\n",
    "im_df = pd.DataFrame(images)\n",
    "map_df = pd.DataFrame(maps)\n",
    "\n",
    "in_both = pd.merge(left=im_df,right=map_df,on=0)\n",
    "\n",
    "print('maps: ',len(maps), '  images: ',len(images),'  in both: ',len(in_both))"
   ]
  },
  {
   "cell_type": "code",
   "execution_count": 13,
   "metadata": {},
   "outputs": [],
   "source": [
    "# This section finds row index when green tip of the car is located on the map\n",
    "# so it could be used to crop all images to achive consistent location of the map\n",
    "\n",
    "maps = [f for f in os.listdir(path1) if f.endswith(\".png\")]\n",
    "sample_map = cv2.imread(path1+maps[0],cv2.IMREAD_COLOR)\n",
    "# get a section of image with the car's outline\n",
    "slice_map = sample_map\n",
    "#finding green colour in image\n",
    "hsv_img = cv2.cvtColor(slice_map, cv2.COLOR_BGR2HSV)\n",
    "lower_range = (40, 40, 40) # lower range of green\n",
    "upper_range = (70, 255, 255) # upper range of green\n",
    "mask = cv2.inRange(hsv_img, lower_range, upper_range)\n",
    "#color_image = cv2.bitwise_and(slice_map, slice_map, mask=mask)\n",
    "#cv2.imshow('Color Image', color_image)\n",
    "#cv2.waitKey(0)\n",
    "#cv2.destroyAllWindows()\n",
    "\n",
    "region_to_look_y = slice_map.shape[0]-80\n",
    "region_to_look_x1 = int(slice_map.shape[1]/2-10)\n",
    "region_to_look_x2 = int(slice_map.shape[1]/2+10)\n",
    "\n",
    "crop = mask[region_to_look_y:, region_to_look_x1:region_to_look_x2]\n",
    "point_loc = 0\n",
    "for i in range(crop.shape[0]):\n",
    "    if crop[i,].sum() > 0 and point_loc==0:\n",
    "        print(\"Detected point of arow in row \",i)\n",
    "        point_loc = i\n",
    "row_of_arrow = region_to_look_y + point_loc\n",
    "print(\"Index of row in original map of arrow tip is: \",row_of_arrow)"
   ]
  },
  {
   "cell_type": "code",
   "execution_count": 1,
   "metadata": {},
   "outputs": [
    {
     "name": "stderr",
     "output_type": "stream",
     "text": [
      "c:\\Users\\Vadim\\.conda\\envs\\sb3_13\\lib\\site-packages\\pandas\\core\\frame.py:4913: SettingWithCopyWarning: \n",
      "A value is trying to be set on a copy of a slice from a DataFrame\n",
      "\n",
      "See the caveats in the documentation: https://pandas.pydata.org/pandas-docs/stable/user_guide/indexing.html#returning-a-view-versus-a-copy\n",
      "  errors=errors,\n"
     ]
    },
    {
     "name": "stdout",
     "output_type": "stream",
     "text": [
      "... deleted: 101834  extra maps and  3  images.\n"
     ]
    },
    {
     "ename": "error",
     "evalue": "OpenCV(4.6.0) D:\\a\\opencv-python\\opencv-python\\opencv\\modules\\imgcodecs\\src\\loadsave.cpp:801: error: (-215:Assertion failed) !_img.empty() in function 'cv::imwrite'\n",
     "output_type": "error",
     "traceback": [
      "\u001b[1;31m---------------------------------------------------------------------------\u001b[0m",
      "\u001b[1;31merror\u001b[0m                                     Traceback (most recent call last)",
      "\u001b[1;32m~\\AppData\\Local\\Temp\\ipykernel_21544\\4255088940.py\u001b[0m in \u001b[0;36m<module>\u001b[1;34m\u001b[0m\n\u001b[0;32m     77\u001b[0m     \u001b[0mcrop_y\u001b[0m \u001b[1;33m=\u001b[0m \u001b[0mrow_of_arrow\u001b[0m \u001b[1;33m+\u001b[0m \u001b[1;36m20\u001b[0m \u001b[1;33m-\u001b[0m \u001b[0mCROP_MAP_PIXELS_Y\u001b[0m\u001b[1;33m\u001b[0m\u001b[1;33m\u001b[0m\u001b[0m\n\u001b[0;32m     78\u001b[0m     \u001b[0mfinal_crop\u001b[0m \u001b[1;33m=\u001b[0m \u001b[0msample_map\u001b[0m\u001b[1;33m[\u001b[0m\u001b[0mcrop_y\u001b[0m\u001b[1;33m:\u001b[0m\u001b[0mcrop_y\u001b[0m\u001b[1;33m+\u001b[0m\u001b[0mCROP_MAP_PIXELS_Y\u001b[0m\u001b[1;33m,\u001b[0m\u001b[0mcrop_x\u001b[0m\u001b[1;33m:\u001b[0m\u001b[0mcrop_x\u001b[0m\u001b[1;33m+\u001b[0m\u001b[0mCROP_MAP_PIXELS_X\u001b[0m\u001b[1;33m]\u001b[0m\u001b[1;33m\u001b[0m\u001b[1;33m\u001b[0m\u001b[0m\n\u001b[1;32m---> 79\u001b[1;33m     \u001b[0mcv2\u001b[0m\u001b[1;33m.\u001b[0m\u001b[0mimwrite\u001b[0m\u001b[1;33m(\u001b[0m\u001b[0mPATH_MAP_CLEAN\u001b[0m\u001b[1;33m+\u001b[0m\u001b[0mm\u001b[0m\u001b[1;33m,\u001b[0m \u001b[0mfinal_crop\u001b[0m\u001b[1;33m)\u001b[0m\u001b[1;33m\u001b[0m\u001b[1;33m\u001b[0m\u001b[0m\n\u001b[0m\u001b[0;32m     80\u001b[0m \u001b[1;33m\u001b[0m\u001b[0m\n\u001b[0;32m     81\u001b[0m \u001b[0mprint\u001b[0m\u001b[1;33m(\u001b[0m\u001b[1;34m\"Min index of row in original map of arrow tip is: \"\u001b[0m\u001b[1;33m,\u001b[0m\u001b[0mtip_min\u001b[0m\u001b[1;33m)\u001b[0m\u001b[1;33m\u001b[0m\u001b[1;33m\u001b[0m\u001b[0m\n",
      "\u001b[1;31merror\u001b[0m: OpenCV(4.6.0) D:\\a\\opencv-python\\opencv-python\\opencv\\modules\\imgcodecs\\src\\loadsave.cpp:801: error: (-215:Assertion failed) !_img.empty() in function 'cv::imwrite'\n"
     ]
    }
   ],
   "source": [
    "# combining into one piece\n",
    "# 1. reconcile map and images by name\n",
    "# 2. delete maps not having images\n",
    "# 3. crop maps to locate tip pf the car in the same position on map image\n",
    "\n",
    "#imports\n",
    "import os\n",
    "import pandas as pd\n",
    "import cv2\n",
    "\n",
    "#constants\n",
    "PIXELS_FROM_MAP_BOTTOM = 210 #number of most low rows of map image to locate the car in\n",
    "PIXELS_FROM_CENTRE_SIDEWISE = 10 #number of pixels to take to the sides off the centre fo locating the car shape\n",
    "\n",
    "CROP_MAP_PIXELS_Y = 285\n",
    "CROP_MAP_PIXELS_X = 240\n",
    "\n",
    "PATH_MAP = 'C:/SelfDrive/Map Projection/map_img/'\n",
    "PATH_IMG = 'C:/SelfDrive/Map Projection/img/'\n",
    "PATH_MAP_CLEAN = 'C:/SelfDrive/Map Projection/map_clean/'\n",
    "\n",
    "# read lists of maps and images\n",
    "images = [f for f in os.listdir(PATH_IMG) if f.endswith(\".png\")]\n",
    "maps = [f for f in os.listdir(PATH_MAP) if f.endswith(\".png\")]\n",
    "\n",
    "im_df = pd.DataFrame(images)\n",
    "map_df = pd.DataFrame(maps)\n",
    "\n",
    "# find not synched files to be deleted\n",
    "img_all = pd.merge(left=im_df,right=map_df,on=0,how='left',indicator=True)\n",
    "img_extra = img_all[img_all['_merge'] == 'left_only'] \n",
    "img_extra.drop(columns=['_merge'],inplace=True)\n",
    "\n",
    "map_all = pd.merge(left=map_df,right=im_df,on=0,how='left',indicator=True)\n",
    "map_extra = map_all[map_all['_merge'] == 'left_only']  #.drop('_merge') \n",
    "map_extra.drop(columns=['_merge'],inplace=True)\n",
    "\n",
    "for f in img_extra[0]:\n",
    "    os.remove(PATH_IMG+str(f))\n",
    "for f in map_extra[0]:\n",
    "    os.remove(PATH_MAP+str(f))\n",
    "\n",
    "print('... deleted:',len(map_extra),' extra maps and ',len(img_extra),' images.')\n",
    "\n",
    "# This section finds row index when green tip of the car is located on the map\n",
    "# so it could be used to crop all images to achive consistent location of the map\n",
    "\n",
    "# loop through maps to get a range of possible tip location \n",
    "maps = [f for f in os.listdir(PATH_MAP) if f.endswith(\".png\")]\n",
    "tip_min = 1000\n",
    "tip_max = 0\n",
    "for m in maps:\n",
    "    sample_map = cv2.imread(PATH_MAP+m,cv2.IMREAD_COLOR)\n",
    "    # get a section of image with the car's outline\n",
    "    slice_map = sample_map\n",
    "    #finding green colour in image\n",
    "    hsv_img = cv2.cvtColor(slice_map, cv2.COLOR_BGR2HSV)\n",
    "    lower_range = (40, 40, 40) # lower range of green\n",
    "    upper_range = (70, 255, 255) # upper range of green\n",
    "    mask = cv2.inRange(hsv_img, lower_range, upper_range)\n",
    "\n",
    "    region_to_look_y = slice_map.shape[0]-PIXELS_FROM_MAP_BOTTOM\n",
    "    region_to_look_x1 = int(slice_map.shape[1]/2-PIXELS_FROM_CENTRE_SIDEWISE)\n",
    "    region_to_look_x2 = int(slice_map.shape[1]/2+PIXELS_FROM_CENTRE_SIDEWISE)\n",
    "\n",
    "    crop = mask[region_to_look_y:, region_to_look_x1:region_to_look_x2]\n",
    "    point_loc = 0\n",
    "    for i in range(crop.shape[0]):\n",
    "        if crop[i,].sum() > 0 and point_loc==0:\n",
    "            point_loc = i\n",
    "    row_of_arrow = region_to_look_y + point_loc\n",
    "    if tip_min > row_of_arrow:\n",
    "        tip_min = row_of_arrow\n",
    "    if tip_max < row_of_arrow:\n",
    "        tip_max = row_of_arrow\n",
    "    crop_x = int(slice_map.shape[1]/2-CROP_MAP_PIXELS_X/2)\n",
    "    crop_y = row_of_arrow + 20 - CROP_MAP_PIXELS_Y\n",
    "    final_crop = sample_map[crop_y:crop_y+CROP_MAP_PIXELS_Y,crop_x:crop_x+CROP_MAP_PIXELS_X]\n",
    "    cv2.imwrite(PATH_MAP_CLEAN+m, final_crop)\n",
    "    \n",
    "print(\"Min index of row in original map of arrow tip is: \",tip_min)\n",
    "print(\"Max index of row in original map of arrow tip is: \",tip_max)"
   ]
  },
  {
   "cell_type": "code",
   "execution_count": 2,
   "metadata": {},
   "outputs": [
    {
     "data": {
      "text/plain": [
       "array([], shape=(0, 240, 3), dtype=uint8)"
      ]
     },
     "execution_count": 2,
     "metadata": {},
     "output_type": "execute_result"
    }
   ],
   "source": [
    "final_crop"
   ]
  },
  {
   "cell_type": "code",
   "execution_count": 57,
   "metadata": {},
   "outputs": [],
   "source": []
  },
  {
   "cell_type": "code",
   "execution_count": 49,
   "metadata": {},
   "outputs": [
    {
     "name": "stdout",
     "output_type": "stream",
     "text": [
      "1691310824037950100.png  had row_number  333\n"
     ]
    }
   ],
   "source": []
  },
  {
   "cell_type": "code",
   "execution_count": 62,
   "metadata": {},
   "outputs": [
    {
     "ename": "error",
     "evalue": "OpenCV(4.6.0) D:\\a\\opencv-python\\opencv-python\\opencv\\modules\\highgui\\src\\window.cpp:967: error: (-215:Assertion failed) size.width>0 && size.height>0 in function 'cv::imshow'\n",
     "output_type": "error",
     "traceback": [
      "\u001b[1;31m---------------------------------------------------------------------------\u001b[0m",
      "\u001b[1;31merror\u001b[0m                                     Traceback (most recent call last)",
      "\u001b[1;32m~\\AppData\\Local\\Temp\\ipykernel_18792\\2279406859.py\u001b[0m in \u001b[0;36m<module>\u001b[1;34m\u001b[0m\n\u001b[1;32m----> 1\u001b[1;33m \u001b[0mcv2\u001b[0m\u001b[1;33m.\u001b[0m\u001b[0mimshow\u001b[0m\u001b[1;33m(\u001b[0m\u001b[1;34m\"test\"\u001b[0m\u001b[1;33m,\u001b[0m\u001b[0mfinal_crop\u001b[0m\u001b[1;33m)\u001b[0m\u001b[1;33m\u001b[0m\u001b[1;33m\u001b[0m\u001b[0m\n\u001b[0m\u001b[0;32m      2\u001b[0m \u001b[0mcv2\u001b[0m\u001b[1;33m.\u001b[0m\u001b[0mwaitKey\u001b[0m\u001b[1;33m(\u001b[0m\u001b[1;36m0\u001b[0m\u001b[1;33m)\u001b[0m\u001b[1;33m\u001b[0m\u001b[1;33m\u001b[0m\u001b[0m\n\u001b[0;32m      3\u001b[0m \u001b[0mcv2\u001b[0m\u001b[1;33m.\u001b[0m\u001b[0mdestroyAllWindows\u001b[0m\u001b[1;33m(\u001b[0m\u001b[1;33m)\u001b[0m\u001b[1;33m\u001b[0m\u001b[1;33m\u001b[0m\u001b[0m\n",
      "\u001b[1;31merror\u001b[0m: OpenCV(4.6.0) D:\\a\\opencv-python\\opencv-python\\opencv\\modules\\highgui\\src\\window.cpp:967: error: (-215:Assertion failed) size.width>0 && size.height>0 in function 'cv::imshow'\n"
     ]
    }
   ],
   "source": [
    "cv2.imshow(\"test\",final_crop)\n",
    "cv2.waitKey(0)\n",
    "cv2.destroyAllWindows()"
   ]
  },
  {
   "cell_type": "code",
   "execution_count": 52,
   "metadata": {},
   "outputs": [
    {
     "data": {
      "text/plain": [
       "81"
      ]
     },
     "execution_count": 52,
     "metadata": {},
     "output_type": "execute_result"
    }
   ],
   "source": [
    "point_loc"
   ]
  },
  {
   "cell_type": "code",
   "execution_count": 53,
   "metadata": {},
   "outputs": [
    {
     "data": {
      "text/plain": [
       "252"
      ]
     },
     "execution_count": 53,
     "metadata": {},
     "output_type": "execute_result"
    }
   ],
   "source": [
    "region_to_look_y"
   ]
  },
  {
   "cell_type": "code",
   "execution_count": 54,
   "metadata": {},
   "outputs": [
    {
     "data": {
      "text/plain": [
       "(452, 452, 3)"
      ]
     },
     "execution_count": 54,
     "metadata": {},
     "output_type": "execute_result"
    }
   ],
   "source": [
    "sample_map.shape"
   ]
  },
  {
   "cell_type": "code",
   "execution_count": 1,
   "metadata": {},
   "outputs": [],
   "source": []
  },
  {
   "cell_type": "code",
   "execution_count": null,
   "metadata": {},
   "outputs": [],
   "source": []
  }
 ],
 "metadata": {
  "kernelspec": {
   "display_name": "sb3_13",
   "language": "python",
   "name": "python3"
  },
  "language_info": {
   "codemirror_mode": {
    "name": "ipython",
    "version": 3
   },
   "file_extension": ".py",
   "mimetype": "text/x-python",
   "name": "python",
   "nbconvert_exporter": "python",
   "pygments_lexer": "ipython3",
   "version": "3.7.15"
  },
  "orig_nbformat": 4
 },
 "nbformat": 4,
 "nbformat_minor": 2
}
