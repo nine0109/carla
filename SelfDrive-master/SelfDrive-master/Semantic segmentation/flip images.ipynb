{
 "cells": [
  {
   "cell_type": "code",
   "execution_count": 3,
   "metadata": {},
   "outputs": [],
   "source": [
    "'''\n",
    "This is an example how you can double your images by flipping them horizontally\n",
    "'''\n",
    "\n",
    "\n",
    "import cv2\n",
    "import os\n",
    "rgb_img_dir = 'C:\\\\SelfDrive\\\\Semantic segmentation\\\\out_sem\\\\rgb'\n",
    "sem_img_dir = 'C:\\\\SelfDrive\\\\Semantic segmentation\\\\out_sem\\\\sem'\n",
    "\n",
    "images = [f for f in os.listdir(rgb_img_dir) if f.endswith(\".png\")]"
   ]
  },
  {
   "cell_type": "code",
   "execution_count": 10,
   "metadata": {},
   "outputs": [],
   "source": [
    "# show flipped example\n",
    "frame = cv2.imread(os.path.join(rgb_img_dir,images[0]))\n",
    "flipped_frame = cv2.flip(frame,1)\n",
    "cv2.imshow('Original',frame)\n",
    "cv2.waitKey(0)\n",
    "cv2.destroyAllWindows()\n",
    "cv2.imshow('flipped',flipped_frame)\n",
    "cv2.waitKey(0)\n",
    "cv2.destroyAllWindows()"
   ]
  },
  {
   "cell_type": "code",
   "execution_count": 11,
   "metadata": {},
   "outputs": [
    {
     "data": {
      "text/plain": [
       "'C:\\\\SelfDrive\\\\Semantic segmentation\\\\out_sem\\\\rgb\\\\1679033081006739600_flip.png'"
      ]
     },
     "execution_count": 11,
     "metadata": {},
     "output_type": "execute_result"
    }
   ],
   "source": [
    "os.path.join(rgb_img_dir,images[0].split('.')[0]+'_flip.png')"
   ]
  },
  {
   "cell_type": "code",
   "execution_count": 12,
   "metadata": {},
   "outputs": [],
   "source": [
    "#loop through all generating flipped versions of rgb\n",
    "\n",
    "for f in images:\n",
    "    in_pth = os.path.join(rgb_img_dir,f)\n",
    "    out_pth = os.path.join(rgb_img_dir,f.split('.')[0]+'_flip.png')\n",
    "    frame = cv2.imread(in_pth)\n",
    "    flipped_frame = cv2.flip(frame,1)\n",
    "    cv2.imwrite(out_pth, flipped_frame)"
   ]
  },
  {
   "cell_type": "code",
   "execution_count": 13,
   "metadata": {},
   "outputs": [],
   "source": [
    "#loop through all generating flipped versions of sem\n",
    "\n",
    "for f in images:\n",
    "    in_pth = os.path.join(sem_img_dir,f)\n",
    "    out_pth = os.path.join(sem_img_dir,f.split('.')[0]+'_flip.png')\n",
    "    frame = cv2.imread(in_pth)\n",
    "    flipped_frame = cv2.flip(frame,1)\n",
    "    cv2.imwrite(out_pth, flipped_frame)"
   ]
  },
  {
   "cell_type": "code",
   "execution_count": null,
   "metadata": {},
   "outputs": [],
   "source": []
  }
 ],
 "metadata": {
  "kernelspec": {
   "display_name": "sb3_15",
   "language": "python",
   "name": "python3"
  },
  "language_info": {
   "codemirror_mode": {
    "name": "ipython",
    "version": 3
   },
   "file_extension": ".py",
   "mimetype": "text/x-python",
   "name": "python",
   "nbconvert_exporter": "python",
   "pygments_lexer": "ipython3",
   "version": "3.7.15"
  }
 },
 "nbformat": 4,
 "nbformat_minor": 2
}
