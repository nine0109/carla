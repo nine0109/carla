{
 "cells": [
  {
   "cell_type": "markdown",
   "metadata": {},
   "source": [
    "Full code to make all waypoints from road sections for video demo"
   ]
  },
  {
   "cell_type": "code",
   "execution_count": 4,
   "metadata": {},
   "outputs": [],
   "source": [
    "#all imports\n",
    "import carla #the sim library itself\n",
    "import time # to set a delay after each photo\n",
    "import cv2 #to work with images from cameras\n",
    "import numpy as np #in this example to change image representation - re-shaping\n",
    "import math\n",
    "import sys\n",
    "import random\n",
    "sys.path.append('C:/CARLA_0.9.15/PythonAPI/carla') # tweak to where you put carla\n",
    "from agents.navigation.global_route_planner import GlobalRoutePlanner\n",
    "\n",
    "# connect to the sim \n",
    "client = carla.Client('localhost', 2000)\n",
    "\n",
    "world = client.get_world()\n",
    "\n",
    "spectator = world.get_spectator()\n",
    "\n",
    "# get map look at the map\n",
    "town_map = world.get_map()\n",
    "roads = town_map.get_topology()\n",
    "\n",
    "# set up route generations\n",
    "sampling_resolution = 1\n",
    "grp = GlobalRoutePlanner(town_map, sampling_resolution)\n",
    "\n",
    "# show first 10 road sections animated in a loop in an example\n",
    "for i in range(10):\n",
    "    spectator_pos = carla.Transform(roads[i][0].transform.location + carla.Location(x=0,y=0,z=80),\n",
    "                                carla.Rotation(yaw = roads[i][0].transform.rotation.yaw +0,pitch = roads[i][0].transform.rotation.pitch -90))\n",
    "    spectator.set_transform(spectator_pos)\n",
    "    time.sleep(0.1)\n",
    "    cur_route = grp.trace_route(roads[i][0].transform.location,roads[i][1].transform.location)\n",
    "    for wp in cur_route:\n",
    "        if len(cur_route)<20:\n",
    "            durn = 2\n",
    "        else:\n",
    "            durn = 0.8\n",
    "        world.debug.draw_string(wp[0].transform.location, '^', draw_shadow=False,\n",
    "            color=carla.Color(r=255, g=0, b=0), life_time=0.8,\n",
    "            persistent_lines=True)\n",
    "        time.sleep(0.03)\n",
    "    if len(cur_route)<20:\n",
    "        time.sleep(1)"
   ]
  },
  {
   "cell_type": "code",
   "execution_count": 14,
   "metadata": {},
   "outputs": [],
   "source": [
    "# make unique waypoints and show on the map \n",
    "# accumulate all waypoints all roads in a loop while making them unique on location x an y\n",
    "unique_waypoints = []\n",
    "for road in roads:\n",
    "    \n",
    "    cur_route = grp.trace_route(road[0].transform.location,road[1].transform.location)\n",
    "    for wp in cur_route:\n",
    "        if len(unique_waypoints)==0:\n",
    "            unique_waypoints.append(wp[0]) #first waypoint is added regardless to start the list\n",
    "        else:\n",
    "            found = False\n",
    "            for uwp in unique_waypoints: #check for same located waypoints and ignore if found\n",
    "                if abs(uwp.transform.location.x - wp[0].transform.location.x) < 0.1 \\\n",
    "                            and abs(uwp.transform.location.y - wp[0].transform.location.y)<0.1 \\\n",
    "                            and abs(uwp.transform.rotation.yaw - wp[0].transform.rotation.yaw)<20:\n",
    "                    found = True\n",
    "            if not found:\n",
    "                unique_waypoints.append(wp[0])\n",
    "\n",
    "#let's show them on the map\n",
    "for uwp in unique_waypoints:\n",
    "    world.debug.draw_string(uwp.transform.location, '^', draw_shadow=False,\n",
    "        color=carla.Color(r=0, g=0, b=255), life_time=60.0,\n",
    "        persistent_lines=True)\n",
    "\n",
    "#move spectator for top down view to see all points \n",
    "spectator_pos = carla.Transform(carla.Location(x=0,y=30,z=200),\n",
    "                                carla.Rotation(pitch = -90, yaw = -90))\n",
    "spectator.set_transform(spectator_pos)"
   ]
  },
  {
   "cell_type": "markdown",
   "metadata": {},
   "source": [
    "show gaps"
   ]
  },
  {
   "cell_type": "code",
   "execution_count": 15,
   "metadata": {},
   "outputs": [],
   "source": [
    "'''\n",
    "another way - explore what we got in town_map = world.get_map()\n",
    "this is a better option:\n",
    "1. it allows to set a distance between waypoints\n",
    "2. it gets them all without gaps\n",
    "3. Do not need ti use route planner\n",
    "\n",
    "#this takes about 4 minutes - in RL context, this only needs to run at the start or when you change a towns\n",
    "'''\n",
    "all_waypoints = town_map.generate_waypoints(0.3) #note 0.3 is distance between waypoints in meters\n",
    "\n",
    "# make unique\n",
    "unique_waypoints = []\n",
    "for wp in all_waypoints:\n",
    "    if len(unique_waypoints)==0:\n",
    "        unique_waypoints.append(wp) #first waypoint is added regardless to start the list\n",
    "    else:\n",
    "        found = False\n",
    "        for uwp in unique_waypoints: #check for same located waypoints and ignore if found\n",
    "            if abs(uwp.transform.location.x - wp.transform.location.x) < 0.1 \\\n",
    "                            and abs(uwp.transform.location.y - wp.transform.location.y)<0.1 \\\n",
    "                            and abs(uwp.transform.rotation.yaw - wp.transform.rotation.yaw)<20:  #this checks same direction\n",
    "                found = True\n",
    "                break\n",
    "        if not found:\n",
    "            unique_waypoints.append(wp)\n",
    "\n",
    "# draw all point in the sim for 60 seconds\n",
    "for wp in unique_waypoints:\n",
    "    world.debug.draw_string(wp.transform.location, '^', draw_shadow=False,\n",
    "        color=carla.Color(r=0, g=0, b=255), life_time=60.0,\n",
    "        persistent_lines=True)\n",
    "\n",
    "#move spectator for top down view to see all points \n",
    "spectator_pos = carla.Transform(carla.Location(x=0,y=30,z=200),\n",
    "                                carla.Rotation(pitch = -90, yaw = -90))\n",
    "spectator.set_transform(spectator_pos)"
   ]
  },
  {
   "cell_type": "code",
   "execution_count": 31,
   "metadata": {},
   "outputs": [],
   "source": [
    "'''\n",
    "now we will see how this will be used in real examples, like during RL training\n",
    "e.g. see how long it takes to find closest point to the car\n",
    "\n",
    "'''\n",
    "#remove any cars/clean up the sim\n",
    "for actor in world.get_actors().filter('*vehicle*'):\n",
    "    actor.destroy()\n",
    "\n",
    "#drop teh car from spectator position\n",
    "vehicle_bp = world.get_blueprint_library().filter('*model3*')\n",
    "vehicle = world.try_spawn_actor(vehicle_bp[0], spectator.get_transform())\n",
    "time.sleep(10)\n"
   ]
  },
  {
   "cell_type": "code",
   "execution_count": 35,
   "metadata": {},
   "outputs": [],
   "source": [
    "# this takes less than 0.0 seconds, i.e. it happens in something like 0.001 or similar\n",
    "\n",
    "my_waypoint = vehicle.get_transform().location\n",
    "curr_distance = 1000\n",
    "for wp in unique_waypoints:\n",
    "    dist = my_waypoint.distance(wp.transform.location)\n",
    "    if dist < curr_distance:\n",
    "        curr_distance =  dist\n",
    "        selected_wp = wp\n",
    "\n",
    "#draw the waypoint\n",
    "world.debug.draw_string(selected_wp.transform.location, '^', draw_shadow=False,\n",
    "    color=carla.Color(r=0, g=0, b=255), life_time=60.0,\n",
    "    persistent_lines=True)"
   ]
  },
  {
   "cell_type": "code",
   "execution_count": 36,
   "metadata": {},
   "outputs": [
    {
     "name": "stdout",
     "output_type": "stream",
     "text": [
      "deviation from waypoint: 5.731203556060791 metres\n",
      "angle discrepancy: 42.31391143798828 degrees\n"
     ]
    }
   ],
   "source": [
    "# example how to use this for measuring where the car is in relation to where it should be\n",
    "\n",
    "vehicle_transform = vehicle.get_transform()\n",
    "distance_to_wp = selected_wp.transform.location.distance(vehicle_transform.location)\n",
    "direction_difference = (vehicle_transform.rotation.yaw - selected_wp.transform.rotation.yaw) % 180\n",
    "print('deviation from waypoint:',distance_to_wp,'metres')\n",
    "print('angle discrepancy:',direction_difference,'degrees')\n"
   ]
  },
  {
   "cell_type": "code",
   "execution_count": null,
   "metadata": {},
   "outputs": [],
   "source": []
  },
  {
   "cell_type": "code",
   "execution_count": null,
   "metadata": {},
   "outputs": [],
   "source": []
  }
 ],
 "metadata": {
  "kernelspec": {
   "display_name": "tf2",
   "language": "python",
   "name": "python3"
  },
  "language_info": {
   "codemirror_mode": {
    "name": "ipython",
    "version": 3
   },
   "file_extension": ".py",
   "mimetype": "text/x-python",
   "name": "python",
   "nbconvert_exporter": "python",
   "pygments_lexer": "ipython3",
   "version": "3.7.15"
  },
  "orig_nbformat": 4
 },
 "nbformat": 4,
 "nbformat_minor": 2
}
