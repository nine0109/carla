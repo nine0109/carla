{
 "cells": [
  {
   "cell_type": "code",
   "execution_count": 13,
   "id": "84189703",
   "metadata": {},
   "outputs": [
    {
     "ename": "ModuleNotFoundError",
     "evalue": "No module named 'carla'",
     "output_type": "error",
     "traceback": [
      "\u001b[1;31m---------------------------------------------------------------------------\u001b[0m",
      "\u001b[1;31mModuleNotFoundError\u001b[0m                       Traceback (most recent call last)",
      "Cell \u001b[1;32mIn[13], line 2\u001b[0m\n\u001b[0;32m      1\u001b[0m \u001b[38;5;66;03m#all imports\u001b[39;00m\n\u001b[1;32m----> 2\u001b[0m \u001b[38;5;28;01mimport\u001b[39;00m \u001b[38;5;21;01mcarla\u001b[39;00m\n",
      "\u001b[1;31mModuleNotFoundError\u001b[0m: No module named 'carla'"
     ]
    }
   ],
   "source": [
    "#all imports\n",
    "import carla"
   ]
  },
  {
   "cell_type": "code",
   "execution_count": 10,
   "id": "c5846eae",
   "metadata": {},
   "outputs": [
    {
     "ename": "NameError",
     "evalue": "name 'carla' is not defined",
     "output_type": "error",
     "traceback": [
      "\u001b[1;31m---------------------------------------------------------------------------\u001b[0m",
      "\u001b[1;31mNameError\u001b[0m                                 Traceback (most recent call last)",
      "Cell \u001b[1;32mIn[10], line 1\u001b[0m\n\u001b[1;32m----> 1\u001b[0m client \u001b[38;5;241m=\u001b[39m \u001b[43mcarla\u001b[49m\u001b[38;5;241m.\u001b[39mClient(\u001b[38;5;124m'\u001b[39m\u001b[38;5;124mlocalhost\u001b[39m\u001b[38;5;124m'\u001b[39m, \u001b[38;5;241m2000\u001b[39m)\n\u001b[0;32m      3\u001b[0m world \u001b[38;5;241m=\u001b[39m client\u001b[38;5;241m.\u001b[39mget_world()\n\u001b[0;32m      4\u001b[0m spawn_points \u001b[38;5;241m=\u001b[39m world\u001b[38;5;241m.\u001b[39mget_map()\u001b[38;5;241m.\u001b[39mget_spawn_points()\n",
      "\u001b[1;31mNameError\u001b[0m: name 'carla' is not defined"
     ]
    }
   ],
   "source": [
    "client = carla.Client('localhost', 2000)\n",
    "\n",
    "world = client.get_world()\n",
    "spawn_points = world.get_map().get_spawn_points()\n",
    "\n",
    "vehicle_bp = world.get_blueprint_library().filter('*firetruck*')\n",
    "start_point = spawn_points[0]\n",
    "vehicle = world.try_spawn_actor(vehicle_bp[0], start_point)"
   ]
  },
  {
   "cell_type": "code",
   "execution_count": null,
   "id": "598d2c5c",
   "metadata": {},
   "outputs": [],
   "source": [
    "# get the car's position on the map \n",
    "vehicle_pos = vehicle.get_transform()\n",
    "print(vehicle_pos)"
   ]
  },
  {
   "cell_type": "code",
   "execution_count": null,
   "id": "33b88a12",
   "metadata": {},
   "outputs": [],
   "source": [
    "# initial spawn point is the same - just 0.6m higher off the ground\n",
    "print(start_point)"
   ]
  },
  {
   "cell_type": "code",
   "execution_count": null,
   "id": "365eee2c",
   "metadata": {},
   "outputs": [],
   "source": [
    "#send vehicle off\n",
    "vehicle.set_autopilot(True)"
   ]
  },
  {
   "cell_type": "code",
   "execution_count": null,
   "id": "233cd16e",
   "metadata": {},
   "outputs": [],
   "source": [
    "# get actual position from the car moving\n",
    "vehicle_pos = vehicle.get_transform()\n",
    "print(vehicle_pos)"
   ]
  },
  {
   "cell_type": "code",
   "execution_count": null,
   "id": "24e9be89",
   "metadata": {},
   "outputs": [],
   "source": [
    "# now look at the map\n",
    "town_map = world.get_map()"
   ]
  },
  {
   "cell_type": "code",
   "execution_count": 6,
   "id": "39caeb6f",
   "metadata": {},
   "outputs": [
    {
     "ename": "NameError",
     "evalue": "name 'town_map' is not defined",
     "output_type": "error",
     "traceback": [
      "\u001b[1;31m---------------------------------------------------------------------------\u001b[0m",
      "\u001b[1;31mNameError\u001b[0m                                 Traceback (most recent call last)",
      "Cell \u001b[1;32mIn[6], line 1\u001b[0m\n\u001b[1;32m----> 1\u001b[0m \u001b[38;5;28mtype\u001b[39m(\u001b[43mtown_map\u001b[49m)\n",
      "\u001b[1;31mNameError\u001b[0m: name 'town_map' is not defined"
     ]
    }
   ],
   "source": [
    "type(town_map)"
   ]
  },
  {
   "cell_type": "code",
   "execution_count": null,
   "id": "ca0be330",
   "metadata": {},
   "outputs": [],
   "source": [
    "print(town_map)"
   ]
  },
  {
   "cell_type": "code",
   "execution_count": null,
   "id": "7b407a5b",
   "metadata": {},
   "outputs": [],
   "source": [
    "roads = town_map.get_topology()"
   ]
  },
  {
   "cell_type": "code",
   "execution_count": null,
   "id": "e1d93d9f",
   "metadata": {},
   "outputs": [],
   "source": [
    "# topology is pairs of waypoints defining all roads - tuples of those\n",
    "print(roads)\n"
   ]
  },
  {
   "cell_type": "code",
   "execution_count": null,
   "id": "37b9456f",
   "metadata": {},
   "outputs": [],
   "source": [
    "#have a look at a waypoint - it is transform wrapped as a waypoint\n",
    "print(roads[0][0])\n"
   ]
  },
  {
   "cell_type": "code",
   "execution_count": null,
   "id": "778cfe38",
   "metadata": {},
   "outputs": [],
   "source": [
    "len(roads)"
   ]
  },
  {
   "cell_type": "code",
   "execution_count": null,
   "id": "9e8cf8ce",
   "metadata": {},
   "outputs": [],
   "source": [
    "# making a route\n",
    "#from one position to another\n",
    "#pos 1: Transform(Location(x=50.477512, y=141.135620, z=0.001844), Rotation(pitch=0.000007, yaw=0.318098, roll=0.000000))\n",
    "#pos 2: Transform(Location(x=-64.644844, y=24.471010, z=0.600000), Rotation(pitch=0.000000, yaw=0.159198, roll=0.000000))"
   ]
  },
  {
   "cell_type": "code",
   "execution_count": null,
   "id": "9d789284",
   "metadata": {},
   "outputs": [],
   "source": [
    "# import some code coming with the sim\n",
    "import sys\n",
    "sys.path.append('C:/CARLA_0.9.14/PythonAPI/carla')\n",
    "from agents.navigation.global_route_planner import GlobalRoutePlanner"
   ]
  },
  {
   "cell_type": "code",
   "execution_count": null,
   "id": "baefb365",
   "metadata": {},
   "outputs": [],
   "source": [
    "# using the code to plan the route and then draw it in the simulator\n",
    "#town10hd_map = world.get_map()\n"
   ]
  },
  {
   "cell_type": "code",
   "execution_count": null,
   "id": "7da2021c",
   "metadata": {},
   "outputs": [],
   "source": [
    "# utility script of destruction\n",
    "\n",
    "for actor in world.get_actors().filter('*vehicle*'):\n",
    "    actor.destroy()\n",
    "for sensor in world.get_actors().filter('*sensor*'):\n",
    "    sensor.destroy()"
   ]
  },
  {
   "cell_type": "code",
   "execution_count": null,
   "id": "b3327268",
   "metadata": {},
   "outputs": [],
   "source": [
    "# now we define 2 cars\n",
    "truck_bp = world.get_blueprint_library().filter('*firetruck*')\n",
    "mini_bp = world.get_blueprint_library().filter('*cooper_s*')\n",
    "\n",
    "#start first car in alredy defined start point\n",
    "truck = world.try_spawn_actor(truck_bp[0], start_point)"
   ]
  },
  {
   "cell_type": "code",
   "execution_count": null,
   "id": "294fdfe1",
   "metadata": {},
   "outputs": [],
   "source": [
    "# tweak spectator position to watch the show\n",
    "\n",
    "spectator = world.get_spectator()\n",
    "spawn_points = world.get_map().get_spawn_points()\n",
    "start_point = spawn_points[0]\n",
    "\n",
    "spectator_pos = carla.Transform(start_point.location + carla.Location(x=20,y=10,z=4),\n",
    "                                carla.Rotation(yaw = start_point.rotation.yaw -155))\n",
    "\n",
    "spectator.set_transform(spectator_pos)"
   ]
  },
  {
   "cell_type": "code",
   "execution_count": null,
   "id": "9dee8be0",
   "metadata": {},
   "outputs": [],
   "source": [
    "\n"
   ]
  },
  {
   "cell_type": "code",
   "execution_count": null,
   "id": "894d141a",
   "metadata": {},
   "outputs": [],
   "source": [
    "# drop the Mini the sky - watch what happens after\n",
    "\n",
    "#spawn it first somewhere else\n",
    "mini = world.try_spawn_actor(mini_bp[0], spawn_points[10])\n",
    "\n",
    "mini_pos = carla.Transform(start_point.location + carla.Location(x=-4,z=10),\n",
    "                            carla.Rotation(yaw = start_point.rotation.yaw - 0))\n",
    "mini.set_transform(mini_pos)\n"
   ]
  },
  {
   "cell_type": "code",
   "execution_count": null,
   "id": "4f057b2f",
   "metadata": {},
   "outputs": [],
   "source": [
    "import time\n",
    "for actor in world.get_actors().filter('*vehicle*'):\n",
    "    actor.destroy()\n",
    "for sensor in world.get_actors().filter('*sensor*'):\n",
    "    sensor.destroy()\n",
    "# now we define 2 cars\n",
    "truck_bp = world.get_blueprint_library().filter('*firetruck*')\n",
    "mini_bp = world.get_blueprint_library().filter('*cooper_s*')\n",
    "\n",
    "#start first car in alredy defined start point\n",
    "truck = world.try_spawn_actor(truck_bp[0], start_point)\n",
    "time.sleep(3)\n",
    "\n",
    "vw_bp = world.get_blueprint_library().filter('*volkswagen*')\n",
    "\n",
    "vw = world.try_spawn_actor(vw_bp[0], spawn_points[20])\n",
    "vw_pos = carla.Transform(start_point.location + carla.Location(x=1,z=6),\n",
    "                            carla.Rotation(yaw = start_point.rotation.yaw - 0))\n",
    "vw.set_transform(vw_pos)\n",
    "mini = world.try_spawn_actor(mini_bp[0], spawn_points[10])\n",
    "\n",
    "mini_pos = carla.Transform(start_point.location + carla.Location(x=1,z=10),\n",
    "                            carla.Rotation(yaw = start_point.rotation.yaw - 0))\n",
    "mini.set_transform(mini_pos)\n"
   ]
  },
  {
   "cell_type": "code",
   "execution_count": null,
   "id": "820993f0",
   "metadata": {},
   "outputs": [],
   "source": [
    "vw_bp = world.get_blueprint_library().filter('*volkswagen*')"
   ]
  },
  {
   "cell_type": "code",
   "execution_count": null,
   "id": "b97f830c",
   "metadata": {},
   "outputs": [],
   "source": [
    "vehicle_all = world.get_blueprint_library()\n",
    "print(vehicle_all)"
   ]
  }
 ],
 "metadata": {
  "kernelspec": {
   "display_name": "Python 3 (ipykernel)",
   "language": "python",
   "name": "python3"
  },
  "language_info": {
   "codemirror_mode": {
    "name": "ipython",
    "version": 3
   },
   "file_extension": ".py",
   "mimetype": "text/x-python",
   "name": "python",
   "nbconvert_exporter": "python",
   "pygments_lexer": "ipython3",
   "version": "3.8.10"
  }
 },
 "nbformat": 4,
 "nbformat_minor": 5
}
