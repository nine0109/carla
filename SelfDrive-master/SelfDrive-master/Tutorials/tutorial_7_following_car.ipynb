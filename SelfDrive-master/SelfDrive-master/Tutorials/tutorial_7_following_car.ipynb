{
 "cells": [
  {
   "cell_type": "code",
   "execution_count": 2,
   "id": "84189703",
   "metadata": {},
   "outputs": [],
   "source": [
    "#all imports\n",
    "import carla\n",
    "import math\n",
    "\n",
    "client = carla.Client('localhost', 2000)\n",
    "\n",
    "world = client.get_world()\n",
    "spawn_points = world.get_map().get_spawn_points()\n",
    "\n",
    "vehicle_bp = world.get_blueprint_library().filter('*model3*')\n",
    "start_point = spawn_points[0]\n",
    "vehicle = world.try_spawn_actor(vehicle_bp[0], start_point)"
   ]
  },
  {
   "cell_type": "code",
   "execution_count": 3,
   "id": "c5846eae",
   "metadata": {},
   "outputs": [],
   "source": [
    "# get spectator\n",
    "spectator = world.get_spectator()\n",
    "spectator_pos = carla.Transform(start_point.location + carla.Location(x=20,y=10,z=4),\n",
    "                                carla.Rotation(yaw = start_point.rotation.yaw -155))\n",
    "spectator.set_transform(spectator_pos)"
   ]
  },
  {
   "cell_type": "code",
   "execution_count": 4,
   "id": "598d2c5c",
   "metadata": {},
   "outputs": [],
   "source": [
    "# this gets the car's position on the map \n",
    "vehicle_transform = vehicle.get_transform()\n"
   ]
  },
  {
   "cell_type": "code",
   "execution_count": 5,
   "id": "365eee2c",
   "metadata": {},
   "outputs": [],
   "source": [
    "#send vehicle off\n",
    "vehicle.set_autopilot(True)"
   ]
  },
  {
   "cell_type": "code",
   "execution_count": 4,
   "id": "7da2021c",
   "metadata": {},
   "outputs": [],
   "source": [
    "# utility script of destruction just in case\n",
    "\n",
    "for actor in world.get_actors().filter('*vehicle*'):\n",
    "    actor.destroy()\n",
    "for sensor in world.get_actors().filter('*sensor*'):\n",
    "    sensor.destroy()"
   ]
  },
  {
   "cell_type": "code",
   "execution_count": 6,
   "id": "59ca3de0",
   "metadata": {},
   "outputs": [],
   "source": [
    "#function to claculate sides (x,y) of a right-angle triangle\n",
    "\n",
    "def calculate_sides(hypotenuse, angle):\n",
    "  \"\"\"\n",
    "  Calculates the two sides of a right triangle given the hypotenuse and an angle.\n",
    "\n",
    "  Args:\n",
    "    hypotenuse: The length of the hypotenuse of the triangle.\n",
    "    represents the distance we need to be from the car\n",
    "    angle: The angle of the triangle in degrees.\n",
    "    represents the yaw angle of the car we need to be aligned with \n",
    "\n",
    "  Returns:\n",
    "    A tuple containing the lengths of the two sides of the triangle.\n",
    "    which are delta x and y\n",
    "  \"\"\"\n",
    "\n",
    "  # Convert the angle to radians\n",
    "  angle_radians = math.radians(angle)\n",
    "\n",
    "  # Calculate the opposite side using the sine function\n",
    "  opposite_side = hypotenuse * math.sin(angle_radians)\n",
    "\n",
    "  # Calculate the adjacent side using the cosine function\n",
    "  adjacent_side = hypotenuse * math.cos(angle_radians)\n",
    "\n",
    "  return opposite_side, adjacent_side"
   ]
  },
  {
   "cell_type": "code",
   "execution_count": 12,
   "id": "d823f09e",
   "metadata": {},
   "outputs": [],
   "source": [
    "# follow the car\n",
    "# here we subtract the delta x and y to be behind \n",
    "metres_distance = 5\n",
    "vehicle_transform = vehicle.get_transform()\n",
    "y,x = calculate_sides(metres_distance, vehicle_transform.rotation.yaw )\n",
    "\n",
    "spectator_pos = carla.Transform(vehicle_transform.location + carla.Location(x=-x,y=-y,z=5 ),\n",
    "                                        carla.Rotation( yaw = vehicle_transform.rotation.yaw,pitch = -25))\n",
    "spectator.set_transform(spectator_pos)            "
   ]
  },
  {
   "cell_type": "code",
   "execution_count": 40,
   "id": "ce3ef6a2",
   "metadata": {},
   "outputs": [],
   "source": [
    "# view head on\n",
    "# here we add delta x and y to be in front of the car\n",
    "# but also add 180 degree yaw to \"turn around\" towards the car \n",
    "metres_distance = 15\n",
    "vehicle_transform = vehicle.get_transform()\n",
    "y,x = calculate_sides(metres_distance, vehicle_transform.rotation.yaw )\n",
    "\n",
    "spectator_pos = carla.Transform(vehicle_transform.location + carla.Location(x=x,y=y,z=5 ),\n",
    "                                        carla.Rotation( yaw = vehicle_transform.rotation.yaw - 180,pitch = -25))\n",
    "spectator.set_transform(spectator_pos)      "
   ]
  },
  {
   "cell_type": "code",
   "execution_count": 34,
   "id": "93d82162",
   "metadata": {},
   "outputs": [],
   "source": [
    "vehicle_bp = world.get_blueprint_library().filter('*police*')\n",
    "start_point = spawn_points[0]\n",
    "vehicle = world.try_spawn_actor(vehicle_bp[0], start_point)"
   ]
  },
  {
   "cell_type": "code",
   "execution_count": 39,
   "id": "9567e53f",
   "metadata": {},
   "outputs": [],
   "source": [
    "for actor in world.get_actors().filter('*vehicle*'):\n",
    "    actor.set_autopilot(False)"
   ]
  },
  {
   "cell_type": "code",
   "execution_count": null,
   "id": "edbb1615",
   "metadata": {},
   "outputs": [],
   "source": [
    "# get spectator\n",
    "spectator = world.get_spectator()\n",
    "spectator_pos = carla.Transform(start_point.location + carla.Location(x=20,y=10,z=4),\n",
    "                                carla.Rotation(yaw = 0, pitch = -90))\n",
    "spectator.set_transform(spectator_pos)"
   ]
  }
 ],
 "metadata": {
  "kernelspec": {
   "display_name": "Python 3 (ipykernel)",
   "language": "python",
   "name": "python3"
  },
  "language_info": {
   "codemirror_mode": {
    "name": "ipython",
    "version": 3
   },
   "file_extension": ".py",
   "mimetype": "text/x-python",
   "name": "python",
   "nbconvert_exporter": "python",
   "pygments_lexer": "ipython3",
   "version": "3.7.15"
  }
 },
 "nbformat": 4,
 "nbformat_minor": 5
}
