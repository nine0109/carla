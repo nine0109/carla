{
 "cells": [
  {
   "cell_type": "code",
   "execution_count": 2,
   "metadata": {},
   "outputs": [],
   "source": [
    "import io\n",
    "import carla\n",
    "\n",
    "# Read the .osm data\n",
    "f = io.open(\"map.osm\", mode=\"r\", encoding=\"utf-8\")\n",
    "osm_data = f.read()\n",
    "f.close()\n",
    "\n",
    "# Define the desired settings. In this case, default values.\n",
    "settings = carla.Osm2OdrSettings()\n",
    "# Set OSM road types to export to OpenDRIVE\n",
    "settings.set_osm_way_types([\"motorway\", \"motorway_link\", \"trunk\", \"trunk_link\", \"primary\", \"primary_link\", \"secondary\", \"secondary_link\", \"tertiary\", \"tertiary_link\", \"unclassified\", \"residential\"])\n",
    "# Convert to .xodr\n",
    "xodr_data = carla.Osm2Odr.convert(osm_data, settings)\n",
    "\n",
    "# save opendrive file\n",
    "f = open(\"result\", 'w')\n",
    "f.write(xodr_data)\n",
    "f.close()"
   ]
  },
  {
   "cell_type": "code",
   "execution_count": null,
   "metadata": {},
   "outputs": [],
   "source": []
  }
 ],
 "metadata": {
  "kernelspec": {
   "display_name": "sb3_13",
   "language": "python",
   "name": "python3"
  },
  "language_info": {
   "codemirror_mode": {
    "name": "ipython",
    "version": 3
   },
   "file_extension": ".py",
   "mimetype": "text/x-python",
   "name": "python",
   "nbconvert_exporter": "python",
   "pygments_lexer": "ipython3",
   "version": "3.7.15"
  },
  "orig_nbformat": 4
 },
 "nbformat": 4,
 "nbformat_minor": 2
}
